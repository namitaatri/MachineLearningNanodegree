{
 "cells": [
  {
   "cell_type": "markdown",
   "metadata": {},
   "source": [
    "# Machine Learning Engineer Nanodegree\n",
    "\n",
    "## Project: Write an Algorithm for Facial Expression Recognition"
   ]
  },
  {
   "cell_type": "markdown",
   "metadata": {},
   "source": [
    "---\n",
    "The goal of this project is to predict facial expressions to recognize basic human emotions of anger, disgust, fear, happiness, sadness, surprise, neutralilty. I am using the FER2013 dataset downloaded from Kaggle where there are 35777 images divided into training, validation and test sets. I propose to employ a deep learning technique to learn expressions using the above data set and predict emotions of faces taken from new images with reasonable accuracy.\n",
    "\n",
    "---"
   ]
  },
  {
   "cell_type": "markdown",
   "metadata": {},
   "source": [
    "### PREPROCESSING\n",
    "\n",
    "The following section will include the following steps:\n",
    "1. Loading modules\n",
    "2. Saving images in folders categorized by type of data\n",
    "3. Preprocessing where grayscale images are normalized by diving pixels by 255.\n",
    "4. Performing one hot encoding on images\n"
   ]
  },
  {
   "cell_type": "code",
   "execution_count": 1,
   "metadata": {},
   "outputs": [
    {
     "name": "stderr",
     "output_type": "stream",
     "text": [
      "Using TensorFlow backend.\n",
      "C:\\Users\\Namita\\Anaconda2\\envs\\dog-project\\lib\\site-packages\\pydot.py:17: UserWarning: Couldn't import dot_parser, loading of dot files will not be possible.\n",
      "  \"Couldn't import dot_parser, \"\n"
     ]
    }
   ],
   "source": [
    "# load the required modules\n",
    "import pandas as pd\n",
    "import numpy as np\n",
    "from keras.models import load_model\n",
    "import matplotlib.pyplot as plt\n",
    "import seaborn as sns\n",
    "import os.path\n",
    "import cv2\n",
    "import os\n",
    "import csv\n",
    "import argparse\n",
    "import scipy.misc\n",
    "\n",
    "from keras.models import Sequential, Model\n",
    "from keras.layers import Dense, Activation, Dropout, Flatten, BatchNormalization,Input\n",
    "from keras.layers import Conv2D, MaxPooling2D,MaxPooling3D, GlobalAveragePooling2D\n",
    "from keras.utils import to_categorical\n",
    "\n",
    "from keras.callbacks import EarlyStopping, TensorBoard, ModelCheckpoint\n",
    "from keras.layers import MaxPool2D\n",
    "from keras.optimizers import Adam\n",
    "from keras.preprocessing.image import ImageDataGenerator\n",
    "%matplotlib inline"
   ]
  },
  {
   "cell_type": "markdown",
   "metadata": {},
   "source": [
    "### Loading the Data\n",
    "\n",
    "The following code creates 3-channel gray images from FER 2013 dataset. It has been done so that the CNNs designed for RGB images can be used without modifying the input shape. It generates the images and saves them in three directories inside \n",
    "the output directory - Training, PublicTest, and PrivateTest. These are the three original splits in the dataset. Further, they are stored by classifying by value of emotion.\n",
    "\n",
    "The dataset has each datum in the following format:\n",
    "\n",
    "Emotion | Pixels | Usage\n",
    "---|:---:|---:\n"
   ]
  },
  {
   "cell_type": "code",
   "execution_count": 2,
   "metadata": {},
   "outputs": [
    {
     "name": "stdout",
     "output_type": "stream",
     "text": [
      "Finished!\n"
     ]
    }
   ],
   "source": [
    "# File and output folder are the below variables.\n",
    "file = 'fer2013.csv'\n",
    "output_folder = 'data'\n",
    "\n",
    "w, h = 48,48\n",
    "image = np.zeros((h, w), dtype=np.uint8)\n",
    "id = 1\n",
    "emotion_list = []\n",
    "with open(file, 'r') as csvfile:\n",
    "    reader = csv.reader(csvfile, delimiter =',')\n",
    "    headers = next(reader)\n",
    "    for row in reader:  \n",
    "        #fetching emotion from the first column\n",
    "        emotion = row[0]\n",
    "        #fetching the pixels of the image\n",
    "        pixels = np.array(list(map(int, row[1].split())))\n",
    "        #fetching the usage category of the image - Training/PublicTest/PrivateTest\n",
    "        usage = row[2]\n",
    "        \n",
    "        image = np.reshape(pixels, (w, h))\n",
    "        image_stack = np.dstack((image,) * 3)\n",
    "        \n",
    "        # add emotion to the list\n",
    "        emotion_list += emotion\n",
    "\n",
    "        image_folder = os.path.join(output_folder, usage)\n",
    "        image_folder = os.path.join(image_folder, emotion) \n",
    "        if not os.path.exists(image_folder):\n",
    "            os.makedirs(image_folder)\n",
    "        image_file =  os.path.join(image_folder , str(id) + '.jpg')\n",
    "        scipy.misc.imsave(image_file, image_stack)\n",
    "        id += 1 \n",
    "        \n",
    "\n",
    "np.savetxt(\"emotions.csv\", emotion_list, delimiter=\",\", fmt='%s')\n",
    "print(\"Finished Loading Images!\")"
   ]
  },
  {
   "cell_type": "code",
   "execution_count": 3,
   "metadata": {},
   "outputs": [],
   "source": [
    "# read images from folder\n",
    "def load_images():\n",
    "    # training images (1 - 28709 images)\n",
    "    images_train = []\n",
    "    for name in range(28710):\n",
    "        for emo in range(7):\n",
    "            img = cv2.imread('data/Training/' + str(emo) + '/'+str(name) + '.jpg', 0)\n",
    "            if img is not None:\n",
    "                images_train.append(img)\n",
    "\n",
    "    # validation images (28710 - 32298 images)\n",
    "    images_val = []\n",
    "    for name in range(28710, 32299):\n",
    "        for emo in range(7):\n",
    "            img = cv2.imread('data/PublicTest/' + str(emo) + '/'+ str(name) + '.jpg', 0)\n",
    "            if img is not None:\n",
    "                images_val.append(img)\n",
    "\n",
    "    # test images (32299 - 35887 images)\n",
    "    images_test = []\n",
    "    for name in range(32299, 35888):\n",
    "        for emo in range(7):\n",
    "            img = cv2.imread('data/PrivateTest/' + str(emo) + '/'+ str(name) + '.jpg', 0)\n",
    "            if img is not None:\n",
    "                images_test.append(img)\n",
    "\n",
    "    \n",
    "    \n",
    "    return images_train, images_val, images_test"
   ]
  },
  {
   "cell_type": "code",
   "execution_count": 4,
   "metadata": {},
   "outputs": [],
   "source": [
    "# load the images\n",
    "images_train, images_val, images_test = load_images()\n",
    "\n",
    "# change to numpy matrix and normalize pixel values by diving by 255\n",
    "images_train = np.array(images_train).astype('float32')/255\n",
    "images_val = np.array(images_val).astype('float32')/255\n",
    "images_test = np.array(images_test).astype('float32')/255\n",
    "\n",
    "# save the numpy matrix\n",
    "np.save('dataset/train_raw.npy', images_train)\n",
    "np.save('dataset/val_raw.npy', images_val)\n",
    "np.save('dataset/test_raw.npy', images_test)"
   ]
  },
  {
   "cell_type": "code",
   "execution_count": 5,
   "metadata": {},
   "outputs": [],
   "source": [
    "# load the images\n",
    "images_train = np.load('dataset/train_raw.npy')\n",
    "# load the validation images\n",
    "images_val = np.load('dataset/val_raw.npy')\n",
    "# load the test images\n",
    "images_test = np.load('dataset/test_raw.npy')"
   ]
  },
  {
   "cell_type": "code",
   "execution_count": 6,
   "metadata": {},
   "outputs": [],
   "source": [
    "# load the corresponding emotion values\n",
    "emotions = pd.read_csv('emotions.csv', header=None)"
   ]
  },
  {
   "cell_type": "markdown",
   "metadata": {},
   "source": [
    "### Visualizing The Data\n",
    "\n",
    "The visualization of distribution of data is presented in this section.\n",
    "\n",
    "The mapping of value to emotion is below:<br>\n",
    "0=Angry<br>\n",
    "1=Disgust<br>\n",
    "2=Fear<br>\n",
    "3=Happy<br>\n",
    "4=Sad<br>\n",
    "5=Surprise<br>\n",
    "6=Neutral<br>\n"
   ]
  },
  {
   "cell_type": "code",
   "execution_count": 7,
   "metadata": {},
   "outputs": [
    {
     "data": {
      "text/plain": [
       "<matplotlib.text.Text at 0x235b82bea90>"
      ]
     },
     "execution_count": 7,
     "metadata": {},
     "output_type": "execute_result"
    },
    {
     "data": {
      "image/png": "[encoded data removed]",
      "text/plain": [
       "<matplotlib.figure.Figure at 0x235b8322d30>"
      ]
     },
     "metadata": {},
     "output_type": "display_data"
    }
   ],
   "source": [
    "# data distribution of emotions in the images\n",
    "emotions.hist()\n",
    "plt.title('Emotion Distribution Of Data')\n",
    "plt.ylabel('Number of Images')\n",
    "plt.xlabel('Emotion')"
   ]
  },
  {
   "cell_type": "code",
   "execution_count": 8,
   "metadata": {},
   "outputs": [
    {
     "data": {
      "text/plain": [
       "3    8989\n",
       "6    6198\n",
       "4    6077\n",
       "2    5121\n",
       "0    4953\n",
       "5    4002\n",
       "1     547\n",
       "Name: 0, dtype: int64"
      ]
     },
     "execution_count": 8,
     "metadata": {},
     "output_type": "execute_result"
    }
   ],
   "source": [
    "# distribution of images and emotions in terms of counts\n",
    "emotions[0].value_counts()"
   ]
  },
  {
   "cell_type": "code",
   "execution_count": 9,
   "metadata": {},
   "outputs": [],
   "source": [
    "# prepare output labels for train, cv and test\n",
    "y_train = emotions[:images_train.shape[0]].values\n",
    "y_val = emotions[images_train.shape[0]:images_train.shape[0] + images_val.shape[0]].values\n",
    "y_test = emotions[images_train.shape[0] + images_val.shape[0]:].values"
   ]
  },
  {
   "cell_type": "code",
   "execution_count": 10,
   "metadata": {},
   "outputs": [
    {
     "name": "stdout",
     "output_type": "stream",
     "text": [
      "(28709, 1)\n",
      "(3589, 1)\n",
      "(3589, 1)\n"
     ]
    }
   ],
   "source": [
    "print(y_train.shape)\n",
    "print(y_val.shape)\n",
    "print(y_test.shape)"
   ]
  },
  {
   "cell_type": "code",
   "execution_count": 11,
   "metadata": {},
   "outputs": [],
   "source": [
    "# create one hot encoding\n",
    "y_train_encode = to_categorical(y_train, num_classes=7)\n",
    "y_val_encode = to_categorical(y_val, num_classes=7)\n",
    "y_test_encode = to_categorical(y_test, num_classes=7)"
   ]
  },
  {
   "cell_type": "code",
   "execution_count": 12,
   "metadata": {},
   "outputs": [
    {
     "name": "stdout",
     "output_type": "stream",
     "text": [
      "(28709, 7)\n",
      "(3589, 7)\n",
      "(3589, 7)\n"
     ]
    }
   ],
   "source": [
    "# checking the shape of the emotion data\n",
    "print(y_train_encode.shape)\n",
    "print(y_val_encode.shape)\n",
    "print(y_test_encode.shape)"
   ]
  },
  {
   "cell_type": "code",
   "execution_count": 13,
   "metadata": {},
   "outputs": [],
   "source": [
    "# for displaying an image from dataset\n",
    "def show(img):\n",
    "    # resize the image\n",
    "    show_image = img.reshape(48,48)\n",
    "    # show the image\n",
    "    plt.imshow(show_image, cmap='gray')"
   ]
  },
  {
   "cell_type": "code",
   "execution_count": 14,
   "metadata": {},
   "outputs": [
    {
     "name": "stdout",
     "output_type": "stream",
     "text": [
      "Emotion:[0]\n"
     ]
    },
    {
     "data": {
      "image/png": "[encoded data removed]",
      "text/plain": [
       "<matplotlib.figure.Figure at 0x235b93784e0>"
      ]
     },
     "metadata": {},
     "output_type": "display_data"
    }
   ],
   "source": [
    "# verify the image with its label\n",
    "index = 0\n",
    "# training image\n",
    "show(images_train[index])\n",
    "print('Emotion:' + str(y_train[index]))"
   ]
  },
  {
   "cell_type": "code",
   "execution_count": 15,
   "metadata": {},
   "outputs": [
    {
     "name": "stdout",
     "output_type": "stream",
     "text": [
      "Emotion:[0]\n"
     ]
    },
    {
     "data": {
      "image/png": "[encoded data removed]",
      "text/plain": [
       "<matplotlib.figure.Figure at 0x235b8322748>"
      ]
     },
     "metadata": {},
     "output_type": "display_data"
    }
   ],
   "source": [
    "# cv image\n",
    "show(images_val[index])\n",
    "print('Emotion:' + str(y_val[index]))"
   ]
  },
  {
   "cell_type": "code",
   "execution_count": 16,
   "metadata": {
    "scrolled": true
   },
   "outputs": [
    {
     "name": "stdout",
     "output_type": "stream",
     "text": [
      "Emotion:[0]\n"
     ]
    },
    {
     "data": {
      "image/png": "[encoded data removed]",
      "text/plain": [
       "<matplotlib.figure.Figure at 0x235ba42d048>"
      ]
     },
     "metadata": {},
     "output_type": "display_data"
    }
   ],
   "source": [
    "# test image\n",
    "show(images_test[index])\n",
    "print('Emotion:' + str(y_test[index]))"
   ]
  },
  {
   "cell_type": "code",
   "execution_count": 17,
   "metadata": {},
   "outputs": [],
   "source": [
    "# reshape the images for keras model\n",
    "images_train = np.expand_dims(images_train, 3)\n",
    "images_val = np.expand_dims(images_val, 3)\n",
    "images_test = np.expand_dims(images_test, 3)"
   ]
  },
  {
   "cell_type": "code",
   "execution_count": 18,
   "metadata": {},
   "outputs": [
    {
     "name": "stdout",
     "output_type": "stream",
     "text": [
      "(28709, 48, 48, 1)\n",
      "(3589, 48, 48, 1)\n",
      "(3589, 48, 48, 1)\n"
     ]
    }
   ],
   "source": [
    "# checking the shape of the pixel data\n",
    "print(images_train.shape)\n",
    "print(images_val.shape)\n",
    "print(images_test.shape)"
   ]
  },
  {
   "cell_type": "markdown",
   "metadata": {},
   "source": [
    "### SIMPLE MODEL FOR BENCHMARK\n",
    "\n",
    "---\n",
    "This model is provided as a benchmark against which we will provide our solution aiming for better results.\n",
    "---"
   ]
  },
  {
   "cell_type": "code",
   "execution_count": 19,
   "metadata": {},
   "outputs": [
    {
     "name": "stdout",
     "output_type": "stream",
     "text": [
      "_________________________________________________________________\n",
      "Layer (type)                 Output Shape              Param #   \n",
      "=================================================================\n",
      "conv2d_1 (Conv2D)            (None, 48, 48, 4)         20        \n",
      "_________________________________________________________________\n",
      "max_pooling2d_1 (MaxPooling2 (None, 24, 24, 4)         0         \n",
      "_________________________________________________________________\n",
      "conv2d_2 (Conv2D)            (None, 24, 24, 8)         136       \n",
      "_________________________________________________________________\n",
      "max_pooling2d_2 (MaxPooling2 (None, 12, 12, 8)         0         \n",
      "_________________________________________________________________\n",
      "conv2d_3 (Conv2D)            (None, 12, 12, 16)        528       \n",
      "_________________________________________________________________\n",
      "max_pooling2d_3 (MaxPooling2 (None, 6, 6, 16)          0         \n",
      "_________________________________________________________________\n",
      "flatten_1 (Flatten)          (None, 576)               0         \n",
      "_________________________________________________________________\n",
      "dense_1 (Dense)              (None, 7)                 4039      \n",
      "=================================================================\n",
      "Total params: 4,723.0\n",
      "Trainable params: 4,723.0\n",
      "Non-trainable params: 0.0\n",
      "_________________________________________________________________\n"
     ]
    }
   ],
   "source": [
    "# Simple CNN with Convolutional and MaxPooling layers to provide benchmark results\n",
    "simple_model = Sequential()\n",
    "\n",
    "simple_model.add(Conv2D(filters=4, kernel_size=2, padding='same', activation='relu', \n",
    "                        input_shape=(48, 48, 1)))\n",
    "simple_model.add(MaxPooling2D(pool_size=2))\n",
    "simple_model.add(Conv2D(filters=8, kernel_size=2, padding='same', activation='relu'))\n",
    "simple_model.add(MaxPooling2D(pool_size=2))\n",
    "simple_model.add(Conv2D(filters=16, kernel_size=2, padding='same', activation='relu'))\n",
    "simple_model.add(MaxPooling2D(pool_size=2))\n",
    "simple_model.add(Flatten())\n",
    "simple_model.add(Dense(7, activation='softmax'))\n",
    "\n",
    "simple_model.summary()"
   ]
  },
  {
   "cell_type": "code",
   "execution_count": 20,
   "metadata": {},
   "outputs": [],
   "source": [
    "# compiling the model\n",
    "simple_model.compile(optimizer='rmsprop', loss='categorical_crossentropy', metrics=['accuracy'])"
   ]
  },
  {
   "cell_type": "code",
   "execution_count": 21,
   "metadata": {},
   "outputs": [
    {
     "name": "stdout",
     "output_type": "stream",
     "text": [
      "Train on 28709 samples, validate on 3589 samples\n",
      "Epoch 1/3\n",
      "28640/28709 [============================>.] - ETA: 0s - loss: 1.7536 - acc: 0.2873Epoch 00000: val_loss improved from inf to 1.65692, saving model to model/weights_simple_best.hdf5\n",
      "28709/28709 [==============================] - 22s - loss: 1.7534 - acc: 0.2873 - val_loss: 1.6569 - val_acc: 0.3572\n",
      "Epoch 2/3\n",
      "28700/28709 [============================>.] - ETA: 0s - loss: 1.6194 - acc: 0.3727Epoch 00001: val_loss improved from 1.65692 to 1.60325, saving model to model/weights_simple_best.hdf5\n",
      "28709/28709 [==============================] - 21s - loss: 1.6193 - acc: 0.3728 - val_loss: 1.6032 - val_acc: 0.3792\n",
      "Epoch 3/3\n",
      "28660/28709 [============================>.] - ETA: 0s - loss: 1.5665 - acc: 0.3982Epoch 00002: val_loss improved from 1.60325 to 1.54829, saving model to model/weights_simple_best.hdf5\n",
      "28709/28709 [==============================] - 20s - loss: 1.5660 - acc: 0.3983 - val_loss: 1.5483 - val_acc: 0.3957\n"
     ]
    },
    {
     "data": {
      "text/plain": [
       "<keras.callbacks.History at 0x235bda0ff98>"
      ]
     },
     "execution_count": 21,
     "metadata": {},
     "output_type": "execute_result"
    }
   ],
   "source": [
    "#this is the callback function for saving best weights after each epoch\n",
    "checkpointer = ModelCheckpoint(filepath='model/weights_simple_best.hdf5', \n",
    "                               verbose=1, save_best_only=True)\n",
    "\n",
    "# training the model\n",
    "simple_model.fit(images_train, y_train_encode, \n",
    "          validation_data=(images_val, y_val_encode),\n",
    "          epochs=3, batch_size=20, callbacks=[checkpointer], verbose=1)"
   ]
  },
  {
   "cell_type": "code",
   "execution_count": 22,
   "metadata": {},
   "outputs": [
    {
     "name": "stdout",
     "output_type": "stream",
     "text": [
      "3584/3589 [============================>.] - ETA: 0sTest score: 1.54567538114\n",
      "Test accuracy: 0.409584842583\n"
     ]
    }
   ],
   "source": [
    "# test loss and accuracy\n",
    "simple_model_score, simple_model_acc = simple_model.evaluate(images_test, y_test_encode, batch_size=32)\n",
    "print('Test score:', simple_model_score)\n",
    "print('Test accuracy:', simple_model_acc)"
   ]
  },
  {
   "cell_type": "markdown",
   "metadata": {},
   "source": [
    "### CNN Implementation from Scratch for FER\n",
    "\n",
    "The following section implements a solution for facial expression recognition using CNN.\n",
    "\n",
    "The model was derived after trying different layers and parameters. \n"
   ]
  },
  {
   "cell_type": "code",
   "execution_count": 23,
   "metadata": {},
   "outputs": [],
   "source": [
    "# call back function to save the model weights after each epoch if the validation loss decreases\n",
    "checkpoint = ModelCheckpoint(filepath='model/weights_best.hdf5', verbose=1, save_best_only=True)"
   ]
  },
  {
   "cell_type": "code",
   "execution_count": 24,
   "metadata": {},
   "outputs": [],
   "source": [
    "model = Sequential()\n",
    "\n",
    "# 1st stage\n",
    "model.add(Conv2D(32, 3, input_shape=(48, 48, 1), padding='same', activation='relu'))\n",
    "model.add(BatchNormalization())\n",
    "model.add(Conv2D(32, 3, padding='same',activation='relu'))\n",
    "model.add(BatchNormalization())\n",
    "model.add(MaxPool2D(pool_size=(2, 2), strides=2))\n",
    "model.add(Dropout(0.3))\n",
    "\n",
    "# 2nd stage\n",
    "model.add(Conv2D(64, 3, padding='same', activation='relu'))\n",
    "model.add(BatchNormalization())\n",
    "model.add(Conv2D(64, 3, padding='same',activation='relu'))\n",
    "model.add(BatchNormalization())\n",
    "model.add(MaxPool2D(pool_size=(2, 2), strides=2))\n",
    "model.add(Dropout(0.3))\n",
    "\n",
    "# 3rd stage\n",
    "model.add(Conv2D(128, 3, padding='same',activation='relu'))\n",
    "model.add(BatchNormalization())\n",
    "model.add(Conv2D(128, 3, padding='same', activation='relu'))\n",
    "model.add(BatchNormalization())\n",
    "model.add(MaxPool2D(pool_size=(2, 2), strides=2))\n",
    "model.add(Dropout(0.3))\n",
    "\n",
    "# Fully Connected layers\n",
    "model.add(Flatten())\n",
    "\n",
    "model.add(Dense(128))\n",
    "model.add(Activation(\"relu\"))\n",
    "model.add(BatchNormalization())\n",
    "model.add(Dropout(0.3))\n",
    "\n",
    "model.add(Dense(128))\n",
    "model.add(Activation(\"relu\"))\n",
    "model.add(BatchNormalization())\n",
    "model.add(Dropout(0.3))\n",
    "\n",
    "model.add(Dense(128))\n",
    "model.add(Activation(\"relu\"))\n",
    "model.add(BatchNormalization())\n",
    "model.add(Dropout(0.3))\n",
    "\n",
    "model.add(Dense(7))\n",
    "model.add(Activation('softmax'))"
   ]
  },
  {
   "cell_type": "code",
   "execution_count": 25,
   "metadata": {},
   "outputs": [
    {
     "name": "stdout",
     "output_type": "stream",
     "text": [
      "_________________________________________________________________\n",
      "Layer (type)                 Output Shape              Param #   \n",
      "=================================================================\n",
      "conv2d_4 (Conv2D)            (None, 48, 48, 32)        320       \n",
      "_________________________________________________________________\n",
      "batch_normalization_1 (Batch (None, 48, 48, 32)        128       \n",
      "_________________________________________________________________\n",
      "conv2d_5 (Conv2D)            (None, 48, 48, 32)        9248      \n",
      "_________________________________________________________________\n",
      "batch_normalization_2 (Batch (None, 48, 48, 32)        128       \n",
      "_________________________________________________________________\n",
      "max_pooling2d_4 (MaxPooling2 (None, 24, 24, 32)        0         \n",
      "_________________________________________________________________\n",
      "dropout_1 (Dropout)          (None, 24, 24, 32)        0         \n",
      "_________________________________________________________________\n",
      "conv2d_6 (Conv2D)            (None, 24, 24, 64)        18496     \n",
      "_________________________________________________________________\n",
      "batch_normalization_3 (Batch (None, 24, 24, 64)        256       \n",
      "_________________________________________________________________\n",
      "conv2d_7 (Conv2D)            (None, 24, 24, 64)        36928     \n",
      "_________________________________________________________________\n",
      "batch_normalization_4 (Batch (None, 24, 24, 64)        256       \n",
      "_________________________________________________________________\n",
      "max_pooling2d_5 (MaxPooling2 (None, 12, 12, 64)        0         \n",
      "_________________________________________________________________\n",
      "dropout_2 (Dropout)          (None, 12, 12, 64)        0         \n",
      "_________________________________________________________________\n",
      "conv2d_8 (Conv2D)            (None, 12, 12, 128)       73856     \n",
      "_________________________________________________________________\n",
      "batch_normalization_5 (Batch (None, 12, 12, 128)       512       \n",
      "_________________________________________________________________\n",
      "conv2d_9 (Conv2D)            (None, 12, 12, 128)       147584    \n",
      "_________________________________________________________________\n",
      "batch_normalization_6 (Batch (None, 12, 12, 128)       512       \n",
      "_________________________________________________________________\n",
      "max_pooling2d_6 (MaxPooling2 (None, 6, 6, 128)         0         \n",
      "_________________________________________________________________\n",
      "dropout_3 (Dropout)          (None, 6, 6, 128)         0         \n",
      "_________________________________________________________________\n",
      "flatten_2 (Flatten)          (None, 4608)              0         \n",
      "_________________________________________________________________\n",
      "dense_2 (Dense)              (None, 128)               589952    \n",
      "_________________________________________________________________\n",
      "activation_1 (Activation)    (None, 128)               0         \n",
      "_________________________________________________________________\n",
      "batch_normalization_7 (Batch (None, 128)               512       \n",
      "_________________________________________________________________\n",
      "dropout_4 (Dropout)          (None, 128)               0         \n",
      "_________________________________________________________________\n",
      "dense_3 (Dense)              (None, 128)               16512     \n",
      "_________________________________________________________________\n",
      "activation_2 (Activation)    (None, 128)               0         \n",
      "_________________________________________________________________\n",
      "batch_normalization_8 (Batch (None, 128)               512       \n",
      "_________________________________________________________________\n",
      "dropout_5 (Dropout)          (None, 128)               0         \n",
      "_________________________________________________________________\n",
      "dense_4 (Dense)              (None, 128)               16512     \n",
      "_________________________________________________________________\n",
      "activation_3 (Activation)    (None, 128)               0         \n",
      "_________________________________________________________________\n",
      "batch_normalization_9 (Batch (None, 128)               512       \n",
      "_________________________________________________________________\n",
      "dropout_6 (Dropout)          (None, 128)               0         \n",
      "_________________________________________________________________\n",
      "dense_5 (Dense)              (None, 7)                 903       \n",
      "_________________________________________________________________\n",
      "activation_4 (Activation)    (None, 7)                 0         \n",
      "=================================================================\n",
      "Total params: 913,639.0\n",
      "Trainable params: 911,975.0\n",
      "Non-trainable params: 1,664.0\n",
      "_________________________________________________________________\n"
     ]
    }
   ],
   "source": [
    "model.summary()"
   ]
  },
  {
   "cell_type": "code",
   "execution_count": 26,
   "metadata": {},
   "outputs": [],
   "source": [
    "# compile the model using Adam optimizer\n",
    "model.compile(loss='categorical_crossentropy', optimizer='adam', metrics=['accuracy'])"
   ]
  },
  {
   "cell_type": "code",
   "execution_count": 27,
   "metadata": {},
   "outputs": [
    {
     "name": "stdout",
     "output_type": "stream",
     "text": [
      "Train on 28709 samples, validate on 3589 samples\n",
      "Epoch 1/5\n",
      "28672/28709 [============================>.] - ETA: 1s - loss: 2.0931 - acc: 0.2475Epoch 00000: val_loss improved from inf to 1.93114, saving model to model/weights_best.hdf5\n",
      "28709/28709 [==============================] - 1242s - loss: 2.0928 - acc: 0.2477 - val_loss: 1.9311 - val_acc: 0.2494\n",
      "Epoch 2/5\n",
      "28672/28709 [============================>.] - ETA: 1s - loss: 1.6488 - acc: 0.3665Epoch 00001: val_loss improved from 1.93114 to 1.58691, saving model to model/weights_best.hdf5\n",
      "28709/28709 [==============================] - 1312s - loss: 1.6484 - acc: 0.3667 - val_loss: 1.5869 - val_acc: 0.3884\n",
      "Epoch 3/5\n",
      "28672/28709 [============================>.] - ETA: 1s - loss: 1.4813 - acc: 0.4285Epoch 00002: val_loss improved from 1.58691 to 1.36231, saving model to model/weights_best.hdf5\n",
      "28709/28709 [==============================] - 1246s - loss: 1.4812 - acc: 0.4286 - val_loss: 1.3623 - val_acc: 0.4709\n",
      "Epoch 4/5\n",
      "28672/28709 [============================>.] - ETA: 1s - loss: 1.3603 - acc: 0.4785Epoch 00003: val_loss improved from 1.36231 to 1.25746, saving model to model/weights_best.hdf5\n",
      "28709/28709 [==============================] - 1264s - loss: 1.3607 - acc: 0.4783 - val_loss: 1.2575 - val_acc: 0.5104\n",
      "Epoch 5/5\n",
      "28672/28709 [============================>.] - ETA: 1s - loss: 1.2945 - acc: 0.5012Epoch 00004: val_loss improved from 1.25746 to 1.24513, saving model to model/weights_best.hdf5\n",
      "28709/28709 [==============================] - 1243s - loss: 1.2944 - acc: 0.5013 - val_loss: 1.2451 - val_acc: 0.5180\n"
     ]
    }
   ],
   "source": [
    "# start training the model with a call to checkpoint at the end of each epoch\n",
    "hist = model.fit(images_train, y_train_encode, batch_size=128, epochs=5, verbose=1,\n",
    "          validation_data=(images_val, y_val_encode), shuffle=True, callbacks=[checkpoint])\n",
    "\n",
    "# save the current model and weights\n",
    "model.save_weights('model/weights.h5')\n",
    "model.save('model/model.h5')"
   ]
  },
  {
   "cell_type": "markdown",
   "metadata": {},
   "source": [
    "### Evaluation of Implementation"
   ]
  },
  {
   "cell_type": "code",
   "execution_count": 28,
   "metadata": {},
   "outputs": [
    {
     "name": "stdout",
     "output_type": "stream",
     "text": [
      "Training Accuracy:  0.501306210621\n",
      "Validation Accuracy:  0.517971579836\n",
      "3589/3589 [==============================] - 60s    \n",
      "Test score: 1.23991688645\n",
      "Test accuracy: 0.521036500422\n"
     ]
    }
   ],
   "source": [
    "# training loss and accuracy\n",
    "train_acc = hist.history['acc']\n",
    "val_acc = hist.history['val_acc']\n",
    "print('Training Accuracy: ', train_acc[-1])\n",
    "print('Validation Accuracy: ', val_acc[-1])\n",
    "\n",
    "# test loss and accuracy\n",
    "score, acc = model.evaluate(images_test, y_test_encode,\n",
    "                            batch_size=32)\n",
    "print('Test score:', score)\n",
    "print('Test accuracy:', acc)"
   ]
  },
  {
   "cell_type": "code",
   "execution_count": 29,
   "metadata": {},
   "outputs": [
    {
     "data": {
      "image/png": "[encoded data removed]",
      "text/plain": [
       "<matplotlib.figure.Figure at 0x235c54fbba8>"
      ]
     },
     "metadata": {},
     "output_type": "display_data"
    }
   ],
   "source": [
    "# This code provides visualizations for loss and accuracy\n",
    "\n",
    "plt.figure(figsize=(16,5))\n",
    "\n",
    "# training loss graph\n",
    "plt.subplot(1, 2, 1)\n",
    "plt.suptitle('Optimizer : Adam', fontsize=10)\n",
    "plt.ylabel('Loss', fontsize=16)\n",
    "plt.plot(hist.history['loss'], color='b', label='Training Loss')\n",
    "plt.plot(hist.history['val_loss'], color='r', label='Validation Loss')\n",
    "plt.legend(loc='upper right')\n",
    "\n",
    "# training accuracy graph\n",
    "plt.subplot(1, 2, 2)\n",
    "plt.ylabel('Accuracy', fontsize=16)\n",
    "plt.plot(hist.history['acc'], color='b', label='Training Accuracy')\n",
    "plt.plot(hist.history['val_acc'], color='r', label='Validation Accuracy')\n",
    "plt.legend(loc='lower right')\n",
    "plt.show()"
   ]
  },
  {
   "cell_type": "markdown",
   "metadata": {},
   "source": [
    "### Refining the Model\n",
    "\n",
    "The following model is an improvement/refinement on the previous model where I have adjusted/added the parameters. \n",
    "e.g. weight initializers have been added in the convolutional layers instead of using random weights as done earlier.\n",
    "I have also changed the units of layers to train longer and Dropout coefficient to improve performance."
   ]
  },
  {
   "cell_type": "code",
   "execution_count": null,
   "metadata": {},
   "outputs": [
    {
     "name": "stdout",
     "output_type": "stream",
     "text": [
      "_________________________________________________________________\n",
      "Layer (type)                 Output Shape              Param #   \n",
      "=================================================================\n",
      "conv2d_10 (Conv2D)           (None, 48, 48, 64)        640       \n",
      "_________________________________________________________________\n",
      "batch_normalization_10 (Batc (None, 48, 48, 64)        256       \n",
      "_________________________________________________________________\n",
      "conv2d_11 (Conv2D)           (None, 48, 48, 64)        36928     \n",
      "_________________________________________________________________\n",
      "batch_normalization_11 (Batc (None, 48, 48, 64)        256       \n",
      "_________________________________________________________________\n",
      "max_pooling2d_7 (MaxPooling2 (None, 24, 24, 64)        0         \n",
      "_________________________________________________________________\n",
      "dropout_7 (Dropout)          (None, 24, 24, 64)        0         \n",
      "_________________________________________________________________\n",
      "conv2d_12 (Conv2D)           (None, 24, 24, 128)       73856     \n",
      "_________________________________________________________________\n",
      "batch_normalization_12 (Batc (None, 24, 24, 128)       512       \n",
      "_________________________________________________________________\n",
      "conv2d_13 (Conv2D)           (None, 24, 24, 128)       147584    \n",
      "_________________________________________________________________\n",
      "batch_normalization_13 (Batc (None, 24, 24, 128)       512       \n",
      "_________________________________________________________________\n",
      "max_pooling2d_8 (MaxPooling2 (None, 12, 12, 128)       0         \n",
      "_________________________________________________________________\n",
      "dropout_8 (Dropout)          (None, 12, 12, 128)       0         \n",
      "_________________________________________________________________\n",
      "conv2d_14 (Conv2D)           (None, 12, 12, 256)       295168    \n",
      "_________________________________________________________________\n",
      "batch_normalization_14 (Batc (None, 12, 12, 256)       1024      \n",
      "_________________________________________________________________\n",
      "conv2d_15 (Conv2D)           (None, 12, 12, 256)       590080    \n",
      "_________________________________________________________________\n",
      "batch_normalization_15 (Batc (None, 12, 12, 256)       1024      \n",
      "_________________________________________________________________\n",
      "max_pooling2d_9 (MaxPooling2 (None, 6, 6, 256)         0         \n",
      "_________________________________________________________________\n",
      "dropout_9 (Dropout)          (None, 6, 6, 256)         0         \n",
      "_________________________________________________________________\n",
      "flatten_3 (Flatten)          (None, 9216)              0         \n",
      "_________________________________________________________________\n",
      "dense_6 (Dense)              (None, 256)               2359552   \n",
      "_________________________________________________________________\n",
      "activation_5 (Activation)    (None, 256)               0         \n",
      "_________________________________________________________________\n",
      "batch_normalization_16 (Batc (None, 256)               1024      \n",
      "_________________________________________________________________\n",
      "dropout_10 (Dropout)         (None, 256)               0         \n",
      "_________________________________________________________________\n",
      "dense_7 (Dense)              (None, 256)               65792     \n",
      "_________________________________________________________________\n",
      "activation_6 (Activation)    (None, 256)               0         \n",
      "_________________________________________________________________\n",
      "batch_normalization_17 (Batc (None, 256)               1024      \n",
      "_________________________________________________________________\n",
      "dropout_11 (Dropout)         (None, 256)               0         \n",
      "_________________________________________________________________\n",
      "dense_8 (Dense)              (None, 256)               65792     \n",
      "_________________________________________________________________\n",
      "activation_7 (Activation)    (None, 256)               0         \n",
      "_________________________________________________________________\n",
      "batch_normalization_18 (Batc (None, 256)               1024      \n",
      "_________________________________________________________________\n",
      "dropout_12 (Dropout)         (None, 256)               0         \n",
      "_________________________________________________________________\n",
      "dense_9 (Dense)              (None, 7)                 1799      \n",
      "_________________________________________________________________\n",
      "activation_8 (Activation)    (None, 7)                 0         \n",
      "=================================================================\n",
      "Total params: 3,643,847.0\n",
      "Trainable params: 3,640,519.0\n",
      "Non-trainable params: 3,328.0\n",
      "_________________________________________________________________\n"
     ]
    }
   ],
   "source": [
    "# Refined Model\n",
    "refined_model = Sequential()\n",
    "\n",
    "# 1st stage\n",
    "refined_model.add(Conv2D(64, 3, input_shape=(48, 48, 1), padding='same', activation='relu', \n",
    "                         kernel_initializer='random_uniform'))\n",
    "refined_model.add(BatchNormalization())\n",
    "refined_model.add(Conv2D(64, 3, padding='same',activation='relu', kernel_initializer='random_uniform'))\n",
    "refined_model.add(BatchNormalization())\n",
    "refined_model.add(MaxPool2D(pool_size=(2, 2), strides=2))\n",
    "refined_model.add(Dropout(0.2))\n",
    "\n",
    "# 2nd stage\n",
    "refined_model.add(Conv2D(128, 3, padding='same', activation='relu', kernel_initializer='random_uniform'))\n",
    "refined_model.add(BatchNormalization())\n",
    "refined_model.add(Conv2D(128, 3, padding='same',activation='relu', kernel_initializer='random_uniform'))\n",
    "refined_model.add(BatchNormalization())\n",
    "refined_model.add(MaxPool2D(pool_size=(2, 2), strides=2))\n",
    "refined_model.add(Dropout(0.2))\n",
    "\n",
    "# 3rd stage\n",
    "refined_model.add(Conv2D(256, 3, padding='same',activation='relu', kernel_initializer='random_uniform'))\n",
    "refined_model.add(BatchNormalization())\n",
    "refined_model.add(Conv2D(256, 3, padding='same', activation='relu', kernel_initializer='random_uniform'))\n",
    "refined_model.add(BatchNormalization())\n",
    "refined_model.add(MaxPool2D(pool_size=(2, 2), strides=2))\n",
    "refined_model.add(Dropout(0.2))\n",
    "\n",
    "# Fully Connected layers\n",
    "refined_model.add(Flatten())\n",
    "refined_model.add(Dense(256, kernel_initializer='random_uniform'))\n",
    "refined_model.add(Activation(\"relu\"))\n",
    "refined_model.add(BatchNormalization())\n",
    "refined_model.add(Dropout(0.2))\n",
    "\n",
    "refined_model.add(Dense(256, kernel_initializer='random_uniform'))\n",
    "refined_model.add(Activation(\"relu\"))\n",
    "refined_model.add(BatchNormalization())\n",
    "refined_model.add(Dropout(0.2))\n",
    "\n",
    "refined_model.add(Dense(256, kernel_initializer='random_uniform'))\n",
    "refined_model.add(Activation(\"relu\"))\n",
    "refined_model.add(BatchNormalization())\n",
    "refined_model.add(Dropout(0.2))\n",
    "\n",
    "refined_model.add(Dense(7))\n",
    "refined_model.add(Activation('softmax'))\n",
    "\n",
    "refined_model.summary()"
   ]
  },
  {
   "cell_type": "code",
   "execution_count": null,
   "metadata": {},
   "outputs": [
    {
     "name": "stdout",
     "output_type": "stream",
     "text": [
      "Train on 28709 samples, validate on 3589 samples\n",
      "Epoch 1/5\n",
      "28672/28709 [============================>.] - ETA: 4s - loss: 1.9107 - acc: 0.3059 Epoch 00000: val_loss did not improve\n",
      "28709/28709 [==============================] - 3355s - loss: 1.9102 - acc: 0.3062 - val_loss: 1.9476 - val_acc: 0.1767\n",
      "Epoch 2/5\n",
      "28672/28709 [============================>.] - ETA: 4s - loss: 1.4906 - acc: 0.4284 Epoch 00001: val_loss did not improve\n",
      "28709/28709 [==============================] - 3388s - loss: 1.4908 - acc: 0.4283 - val_loss: 1.7019 - val_acc: 0.3001\n",
      "Epoch 3/5\n",
      "28672/28709 [============================>.] - ETA: 4s - loss: 1.2929 - acc: 0.5066 Epoch 00002: val_loss did not improve\n",
      "28709/28709 [==============================] - 3428s - loss: 1.2928 - acc: 0.5068 - val_loss: 1.3118 - val_acc: 0.4965\n",
      "Epoch 4/5\n",
      "28672/28709 [============================>.] - ETA: 4s - loss: 1.1771 - acc: 0.5515 Epoch 00003: val_loss improved from 1.24513 to 1.24056, saving model to model/weights_best.hdf5\n",
      "28709/28709 [==============================] - 3345s - loss: 1.1767 - acc: 0.5515 - val_loss: 1.2406 - val_acc: 0.5344\n",
      "Epoch 5/5\n",
      " 5888/28709 [=====>........................] - ETA: 2622s - loss: 1.0876 - acc: 0.5898"
     ]
    }
   ],
   "source": [
    "# compile the model\n",
    "refined_model.compile(loss='categorical_crossentropy', optimizer='adam', metrics=['accuracy'])\n",
    "# start training the model\n",
    "refined_hist = refined_model.fit(images_train, y_train_encode, batch_size=128, epochs=5, verbose=1,\n",
    "          validation_data=(images_val, y_val_encode), shuffle=True, callbacks=[checkpoint])\n",
    "\n",
    "# save the current model and weights\n",
    "refined_model.save_weights('model/refined-weights.h5')\n",
    "refined_model.save('model/refined-model.h5')"
   ]
  },
  {
   "cell_type": "markdown",
   "metadata": {},
   "source": [
    "### Evaluating the Refined Model"
   ]
  },
  {
   "cell_type": "code",
   "execution_count": null,
   "metadata": {},
   "outputs": [],
   "source": [
    "# training loss and accuracy\n",
    "train_acc_refined = refined_hist.history['acc']\n",
    "val_acc_refined = refined_hist.history['val_acc']\n",
    "print('Training Accuracy: ', train_acc_refined[-1])\n",
    "print('Validation Accuracy: ', val_acc_refined[-1])\n",
    "\n",
    "# test loss and accuracy\n",
    "refined_score, refined_acc = refined_model.evaluate(images_test, y_test_encode, batch_size=32)\n",
    "\n",
    "print('Test score:', refined_score)\n",
    "print('Test accuracy:', refined_acc)"
   ]
  },
  {
   "cell_type": "code",
   "execution_count": null,
   "metadata": {},
   "outputs": [],
   "source": [
    "# The below code will present visualizations for loss and accuracy for refined model\n",
    "\n",
    "plt.figure(figsize=(16,5))\n",
    "\n",
    "# training loss graph\n",
    "plt.subplot(1, 2, 1)\n",
    "plt.suptitle('Optimizer : Adam', fontsize=10)\n",
    "plt.ylabel('Loss', fontsize=16)\n",
    "plt.plot(refined_hist.history['loss'], color='b', label='Training Loss')\n",
    "plt.plot(refined_hist.history['val_loss'], color='r', label='Validation Loss')\n",
    "plt.legend(loc='upper right')\n",
    "\n",
    "# training accuracy graph\n",
    "plt.subplot(1, 2, 2)\n",
    "plt.ylabel('Accuracy', fontsize=16)\n",
    "plt.plot(refined_hist.history['acc'], color='b', label='Training Accuracy')\n",
    "plt.plot(refined_hist.history['val_acc'], color='r', label='Validation Accuracy')\n",
    "plt.legend(loc='lower right')\n",
    "plt.show()"
   ]
  },
  {
   "cell_type": "markdown",
   "metadata": {},
   "source": [
    "### Testing On External Images\n",
    "\n",
    "In this part, we load images external to the dataset, and predict the emotion on these.\n",
    "The images are displayed with the predicted emotion for visual confirmation.\n"
   ]
  },
  {
   "cell_type": "code",
   "execution_count": null,
   "metadata": {},
   "outputs": [],
   "source": [
    "# read image \n",
    "images = []\n",
    "for filename in os.listdir('test_images\\\\'):\n",
    "    path = os.path.join('test_images\\\\', filename)\n",
    "    images.append(cv2.imread(path, -1))"
   ]
  },
  {
   "cell_type": "code",
   "execution_count": null,
   "metadata": {},
   "outputs": [],
   "source": [
    "# perform prediction on the images after resizing them\n",
    "def predict_emotion():\n",
    "    predictions = []\n",
    "    for img in images:\n",
    "        # change to grayscale\n",
    "        curr_img = cv2.cvtColor(img, cv2.COLOR_BGR2GRAY)\n",
    "    \n",
    "        # resize to 48x48 so that it will match the input shape of the model \n",
    "        curr_img = cv2.resize(curr_img, (48,48))\n",
    "        curr_img = np.reshape(curr_img, (1, 48, 48, 1))\n",
    "        \n",
    "        # predicting using the refined model\n",
    "        predictions.append(np.argmax(refined_model.predict(curr_img)))\n",
    "        return predictions\n",
    "  "
   ]
  },
  {
   "cell_type": "code",
   "execution_count": null,
   "metadata": {},
   "outputs": [],
   "source": [
    "# list of predictions\n",
    "predicted_emotions = predict_emotion()\n",
    "\n",
    "# list of given emotions\n",
    "EMOTIONS = ['Angry', 'Disgusted', 'Fearful',\n",
    "            'Happy', 'Sad', 'Surprised', 'Neutral']"
   ]
  },
  {
   "cell_type": "code",
   "execution_count": null,
   "metadata": {},
   "outputs": [],
   "source": [
    "# to display the predicted emotion and the original image\n",
    "def display_predictions(i):\n",
    "    plt.imshow(images[i])\n",
    "    print('Predicted Emotion: ' + str(EMOTIONS[predicted_emotions[i]]))\n",
    "    plt.show()"
   ]
  },
  {
   "cell_type": "code",
   "execution_count": null,
   "metadata": {
    "scrolled": false
   },
   "outputs": [],
   "source": [
    "for i in range (len(images)):\n",
    "    display_predictions(i)\n"
   ]
  },
  {
   "cell_type": "code",
   "execution_count": null,
   "metadata": {},
   "outputs": [],
   "source": []
  }
 ],
 "metadata": {
  "kernelspec": {
   "display_name": "dog-project",
   "language": "python",
   "name": "dog-project"
  },
  "language_info": {
   "codemirror_mode": {
    "name": "ipython",
    "version": 3
   },
   "file_extension": ".py",
   "mimetype": "text/x-python",
   "name": "python",
   "nbconvert_exporter": "python",
   "pygments_lexer": "ipython3",
   "version": "3.5.3"
  }
 },
 "nbformat": 4,
 "nbformat_minor": 2
}
